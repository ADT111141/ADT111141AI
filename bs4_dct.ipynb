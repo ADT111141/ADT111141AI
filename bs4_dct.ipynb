{
 "cells": [
  {
   "cell_type": "code",
   "execution_count": 15,
   "id": "1e7effe5-f564-4e97-9aae-8ff16282b407",
   "metadata": {},
   "outputs": [
    {
     "name": "stdout",
     "output_type": "stream",
     "text": [
      "找到關鍵詞 '臺中'，當前計數：1\n",
      "找到關鍵詞 '臺中'，當前計數：2\n",
      "找到關鍵詞 '臺中'，當前計數：3\n",
      "找到關鍵詞 '臺中'，當前計數：4\n",
      "關鍵詞 '臺中' 共出現 4 次\n"
     ]
    }
   ],
   "source": [
    "import requests\n",
    "from bs4 import BeautifulSoup\n",
    "\n",
    "url = 'https://2023ntcu.ntcu.edu.tw/'\n",
    "html = requests.get(url)\n",
    "html.encoding=\"utf-8\"\n",
    "soup = BeautifulSoup(html.text, 'html.parser')\n",
    "#print(soup.prettify())\n",
    "#print(html.text)\n",
    "\n",
    "#htmllist = html.text.splitlines()\n",
    "\n",
    "n=0\n",
    "keyword = \"臺中\"\n",
    "count = 0\n",
    "\n",
    "#for row in htmllist:\n",
    "#    if keyword in row: n+=1\n",
    "#print(\"找到 {} 次!\".format(n))\n",
    "\n",
    "for text in soup.stripped_strings:\n",
    "    if keyword in text:\n",
    "        count += 1\n",
    "        print(f\"找到關鍵詞 '{keyword}'，當前計數：{count}\")\n",
    "\n",
    "print(f\"關鍵詞 '{keyword}' 共出現 {count} 次\")"
   ]
  },
  {
   "cell_type": "code",
   "execution_count": null,
   "id": "862a04a6-80ac-4ec9-854a-db5cf6a4330a",
   "metadata": {},
   "outputs": [],
   "source": []
  }
 ],
 "metadata": {
  "kernelspec": {
   "display_name": "Python 3 (ipykernel)",
   "language": "python",
   "name": "python3"
  },
  "language_info": {
   "codemirror_mode": {
    "name": "ipython",
    "version": 3
   },
   "file_extension": ".py",
   "mimetype": "text/x-python",
   "name": "python",
   "nbconvert_exporter": "python",
   "pygments_lexer": "ipython3",
   "version": "3.12.4"
  }
 },
 "nbformat": 4,
 "nbformat_minor": 5
}
